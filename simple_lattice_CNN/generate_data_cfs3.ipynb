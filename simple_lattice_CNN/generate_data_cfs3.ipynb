{
 "cells": [
  {
   "cell_type": "code",
   "execution_count": null,
   "id": "474cf1ee-d3d7-44b7-9e39-097a743e5478",
   "metadata": {},
   "outputs": [],
   "source": []
  },
  {
   "cell_type": "code",
   "execution_count": 1,
   "id": "260337be-31ce-40ab-8aec-83f630add701",
   "metadata": {
    "tags": []
   },
   "outputs": [],
   "source": [
    "%load_ext autoreload\n",
    "%autoreload 2"
   ]
  },
  {
   "cell_type": "code",
   "execution_count": 2,
   "id": "00f83ec6-189a-4010-96ef-0bf85f20aa68",
   "metadata": {
    "tags": []
   },
   "outputs": [],
   "source": [
    "import re\n",
    "import os\n",
    "import sys\n",
    "import shutil\n",
    "from shutil import copyfile, copy2\n",
    "from shutil import move"
   ]
  },
  {
   "cell_type": "code",
   "execution_count": 3,
   "id": "2f20edca-e041-45eb-b9ee-3e10a8cb72c7",
   "metadata": {
    "tags": []
   },
   "outputs": [],
   "source": [
    "import numpy as np\n",
    "import pandas as pd\n",
    "import matplotlib.pyplot as plt\n",
    "import matplotlib.pylab as pylab\n",
    "import seaborn as sns\n",
    "from scipy import stats\n",
    "# Cause plots to be displayed in the notebook:\n",
    "%matplotlib inline"
   ]
  },
  {
   "cell_type": "code",
   "execution_count": 4,
   "id": "a3ae89f6-2979-43a2-a1ce-18b46bdc6edc",
   "metadata": {
    "tags": []
   },
   "outputs": [],
   "source": [
    "import subprocess "
   ]
  },
  {
   "cell_type": "code",
   "execution_count": 4,
   "id": "2986bfa3-fd7a-4922-9290-0976dfca0c93",
   "metadata": {
    "tags": []
   },
   "outputs": [],
   "source": [
    "from matplotlib import cm\n",
    "from latt2D_modules import calc_diffuse_cfs3\n",
    "from latt2D_modules import get_occ_map, get_2D_occ_map_from_seq,store_occ_map_as_seq\n",
    "from latt2D_modules import plot_occ_map,read_bin,output_16bit_pgm\n",
    "import time"
   ]
  },
  {
   "cell_type": "code",
   "execution_count": 5,
   "id": "e2338c27-e570-4329-9317-f17c3437d21b",
   "metadata": {},
   "outputs": [],
   "source": [
    "from sklearn.metrics import r2_score\n",
    "from sklearn.metrics import accuracy_score\n",
    "from sklearn.metrics import mean_squared_error\n",
    "from sklearn.metrics import mean_absolute_error"
   ]
  },
  {
   "cell_type": "code",
   "execution_count": 13,
   "id": "e787873f-45bd-4da5-bf91-121f9e82ec8e",
   "metadata": {
    "tags": []
   },
   "outputs": [],
   "source": [
    "\n",
    "iconc=0.50 # spin concentration\n",
    "cread=0    # reading correlation function from input file  otherwise it will be generated randomly \n",
    "'corr.in'\n",
    "'jswitch.in'\n",
    "icycles=500  # MC cycles \n",
    "ianneal=500  # MC input \n",
    "\n",
    "\n",
    "corrin=np.array([[1.0,  0.0, 0.0], \n",
    "                 [0.0,  0.0, 0.0], \n",
    "                 [0.0,  0.0, 0.0]])\n",
    "\n",
    "fhout=open('corr.in','w')\n",
    "fhout.write(\"%.6f %.6f %.6f\\n%.6f %.6f %.6f\\n%.6f %.6f %.6f\\n\"%(tuple(corrin.flatten())))\n",
    "fhout.close()\n",
    "\n",
    "jsw=np.ones((9)) \n",
    "        \n",
    "\n",
    "fhout=open('jswitch.in','w')\n",
    "fhout.write(\"%d %d %d\\n%d %d %d\\n%d %d %d\\n\"%tuple(jsw))\n",
    "fhout.close()\n",
    "\n",
    "\n"
   ]
  },
  {
   "cell_type": "markdown",
   "id": "adf88cdb-5d28-4c2a-a630-f4f4599d2828",
   "metadata": {},
   "source": [
    "### Do a Preliminary test \n",
    "### generate as random image"
   ]
  },
  {
   "cell_type": "code",
   "execution_count": 14,
   "id": "9692e3e1-ff88-49ae-ab14-e3eff2e952cc",
   "metadata": {
    "tags": []
   },
   "outputs": [],
   "source": [
    "calc_diffuse_cfs3(iconc,cread,icycles,ianneal,exp_no=0)\n",
    "# store_occ_map_as_seq('./expfiles_0/ising2D_occ.txt','./expfiles_0/ising2D_seq.dat')"
   ]
  },
  {
   "cell_type": "code",
   "execution_count": 18,
   "id": "a808c3df-fc5f-4478-88ed-2080ebd999cd",
   "metadata": {
    "tags": []
   },
   "outputs": [
    {
     "name": "stdout",
     "output_type": "stream",
     "text": [
      "Correlation function configuration\n",
      " 00: 1.000  01: -0.414  02: -0.141 \n",
      " 10: 0.272  11: -0.346  12: 0.288 \n",
      " 20: -0.326  21: 0.277  22: -0.275 \n",
      "\n"
     ]
    },
    {
     "data": {
      "image/png": "[encoded data removed]",
      "text/plain": [
       "<Figure size 1000x600 with 2 Axes>"
      ]
     },
     "metadata": {},
     "output_type": "display_data"
    }
   ],
   "source": [
    "fig, axes = plt.subplots(1, 2, figsize=(10,6))\n",
    "occ3D=get_occ_map('./expfiles_0/ising2D_occ.txt')\n",
    "store_occ_map_as_seq('./expfiles_0/ising2D_occ.txt','./expfiles_0/ising2D_seq.dat')\n",
    "axes[0].imshow(np.transpose(occ3D[:,:,0]),interpolation='nearest',cmap='gray') \n",
    "axes[0].set_xlabel('a-axis')\n",
    "axes[0].set_ylabel('b-axis')\n",
    "imdat = read_bin('./expfiles_0/hk0.bin', npixels=64, offset=1280)\n",
    "axes[1].imshow(np.flip(imdat,0),cmap='gray')\n",
    "axes[1].set_xlabel('h-axis')\n",
    "axes[1].set_ylabel('k-axis')\n",
    "corr_out=np.loadtxt('expfiles_0/corr.out')\n",
    "print(\"Correlation function configuration\")\n",
    "print(\" 00: %.3f  01: %.3f  02: %.3f \\n 10: %.3f  11: %.3f  12: %.3f \\n 20: %.3f  21: %.3f  22: %.3f \\n\"%tuple(corr_out.flatten()))"
   ]
  },
  {
   "cell_type": "markdown",
   "id": "d1dead97-d6ce-40c3-b540-f915a6a173ce",
   "metadata": {},
   "source": [
    "#### below is a check to see how the reinput changes - in future we can check using a few differnt metrics \n",
    "#### but for the time being the correlation function will act as the decoder for generating the crystal  "
   ]
  },
  {
   "cell_type": "code",
   "execution_count": 16,
   "id": "49735042-ee02-443f-86a5-97938b0f91fe",
   "metadata": {
    "tags": []
   },
   "outputs": [
    {
     "name": "stdout",
     "output_type": "stream",
     "text": [
      "Correlation function configuration\n",
      " 00: 1.000  01: -0.421  02: -0.139 \n",
      " 10: 0.259  11: -0.352  12: 0.298 \n",
      " 20: -0.333  21: 0.277  22: -0.261 \n",
      "\n"
     ]
    },
    {
     "data": {
      "image/png": "[encoded data removed]",
      "text/plain": [
       "<Figure size 1000x600 with 2 Axes>"
      ]
     },
     "metadata": {},
     "output_type": "display_data"
    }
   ],
   "source": [
    "copyfile('expfiles_0/corr.out','./corr.in')\n",
    "calc_diffuse_cfs3(iconc,1,icycles,ianneal,1)\n",
    "store_occ_map_as_seq('./expfiles_1/ising2D_occ.txt','./expfiles_1/ising2D_seq.dat')\n",
    "fig, axes = plt.subplots(1, 2, figsize=(10,6))\n",
    "occ3D=get_occ_map('./expfiles_1/ising2D_occ.txt')\n",
    "axes[0].imshow(np.transpose(occ3D[:,:,0]),interpolation='nearest',cmap='gray') \n",
    "axes[0].set_xlabel('a-axis')\n",
    "axes[0].set_ylabel('b-axis')\n",
    "imdat = read_bin('./expfiles_1/hk0.bin', npixels=64, offset=1280)\n",
    "axes[1].imshow(np.flip(imdat,0),cmap='gray')\n",
    "axes[1].set_xlabel('h-axis')\n",
    "axes[1].set_ylabel('k-axis')\n",
    "corr_out=np.loadtxt('expfiles_1/corr.out')\n",
    "print(\"Correlation function configuration\")\n",
    "print(\" 00: %.3f  01: %.3f  02: %.3f \\n 10: %.3f  11: %.3f  12: %.3f \\n 20: %.3f  21: %.3f  22: %.3f \\n\"%tuple(corr_out.flatten()))"
   ]
  },
  {
   "cell_type": "markdown",
   "id": "ab5899f9-9db2-4426-b9cc-5d62c9aa3d02",
   "metadata": {},
   "source": [
    "### Lets calculate an accuracy and MSE for the correaltion functions as well as the images \n",
    "### we will use this as a modified baseline accuracy since the binary grid will also have intrinsic baseline acc "
   ]
  },
  {
   "cell_type": "code",
   "execution_count": 10,
   "id": "50aa702b-e0e3-4d20-b53d-f218d59713df",
   "metadata": {},
   "outputs": [],
   "source": [
    "from sklearn.metrics import accuracy_score\n",
    "from sklearn.metrics import mean_squared_error"
   ]
  },
  {
   "cell_type": "code",
   "execution_count": 22,
   "id": "dfdaca72-d472-4e9f-a5cf-ffe33f671b3d",
   "metadata": {},
   "outputs": [
    {
     "name": "stdout",
     "output_type": "stream",
     "text": [
      "Ising2D accuracy: [0.0116 0.0104 0.0108 0.0124 0.0092 0.0124 0.0084 0.0112 0.0088 0.0072\n",
      " 0.0104 0.0064 0.0092 0.0084 0.0064 0.0096 0.0092 0.01   0.0096 0.01\n",
      " 0.008  0.0108 0.0076 0.0088 0.0084 0.008  0.0072 0.008  0.0084 0.0088\n",
      " 0.0092 0.006  0.0084 0.0076 0.0088 0.0044 0.0124 0.006  0.0128 0.0076\n",
      " 0.0104 0.0088 0.0108 0.0084 0.0092 0.0076 0.008  0.0072 0.008  0.0076]\n",
      "MSE correlation config:  6.538045555555557e-05\n",
      "MSE FT images:  0.21748914\n"
     ]
    }
   ],
   "source": [
    "occ2D_0=get_2D_occ_map_from_seq('./expfiles_0/ising2D_seq.dat')\n",
    "occ2D_1=get_2D_occ_map_from_seq('./expfiles_1/ising2D_seq.dat')\n",
    "accuracy=sum(occ2D_0==occ2D_1)/len(occ2D_0.flatten())\n",
    "print(\"Ising2D accuracy:\", accuracy)\n",
    "corr_out_0=np.loadtxt('expfiles_0/corr.out')\n",
    "corr_out_1=np.loadtxt('expfiles_1/corr.out')\n",
    "imdat_0 = read_bin('./expfiles_0/hk0.bin', npixels=64, offset=1280)\n",
    "imdat_1 = read_bin('./expfiles_1/hk0.bin', npixels=64, offset=1280)\n",
    "print(\"MSE correlation config: \", mean_squared_error(corr_out_0.flatten(),corr_out_1.flatten()))\n",
    "print(\"MSE FT images: \", mean_squared_error(imdat_0.flatten(),imdat_1.flatten()))"
   ]
  },
  {
   "cell_type": "markdown",
   "id": "a5d42670-e3f0-42ef-b346-bda3fee6f76e",
   "metadata": {},
   "source": [
    "## The below cell will generate random images which can be used for training a CNN\n",
    "## The correlations are stored in a dataframe which is then saved as a .csv "
   ]
  },
  {
   "cell_type": "code",
   "execution_count": 40,
   "id": "55f26efd-c442-4ea6-b24d-38b0f6a9e455",
   "metadata": {
    "tags": []
   },
   "outputs": [
    {
     "name": "stdout",
     "output_type": "stream",
     "text": [
      "Total time taken: 4799.41 seconds\n"
     ]
    }
   ],
   "source": [
    "# %%timeit # you need to be careful with this becasue magic function acts like wrapper and screws with variable locality\n",
    "# in fact its running the loop several times to get an average - if you want the time for a single run just import time\n",
    "iconc=0.50 # spin concentration\n",
    "cread=0    # reading correlation function from input file  otherwise it will be generated randomly \n",
    "icycles=300  # MC cycles \n",
    "ianneal=300  # MC input \n",
    "\n",
    "start_time = time.time()\n",
    "# when possible always dump to a list or array before converting to Dataframe\n",
    "N=5000 # make this many images\n",
    "Nstart=0 # start labels here\n",
    "corrfuncs=[]\n",
    "for i in range(N):\n",
    "    k=i+Nstart\n",
    "    calc_diffuse_cfs3(iconc,0,icycles,ianneal,exp_no=0)\n",
    "    copyfile('./expfiles_0/hk0.bin','./cfs3_image_inputs_bin/hk0_%s.bin'% str(k).zfill(6))\n",
    "    store_occ_map_as_seq('./expfiles_0/ising2D_occ.txt','./cfs3_image_inputs_seq/ising2D_seq_%s.dat' %  str(k).zfill(6))\n",
    "    # dont save the full occfile unless needed - since this takes up resources \n",
    "    # copyfile('./expfiles_0/ising2D_occ.txt','./image_inputs_occ/ising2D_occ_%d.txt'%(i))  \n",
    "    corr_out=np.loadtxt('expfiles_0/corr.out')\n",
    "    corrfuncs.append(corr_out.flatten())\n",
    "    \n",
    "end_time = time.time()\n",
    "total_time = end_time - start_time\n",
    "\n",
    "print(\"Total time taken: {:.2f} seconds\".format(total_time))"
   ]
  },
  {
   "cell_type": "markdown",
   "id": "6572c400-d11d-4e0c-a7fd-a6e20643f69d",
   "metadata": {},
   "source": [
    "### dont forget to relabel the DF if you are making a new batch\n",
    "for 5000 images Total time taken: 4799.41 seconds"
   ]
  },
  {
   "cell_type": "code",
   "execution_count": 41,
   "id": "183b126f-c6d2-4c70-8b10-85a7809ab42f",
   "metadata": {
    "tags": []
   },
   "outputs": [
    {
     "data": {
      "text/html": [
       "<div>\n",
       "<style scoped>\n",
       "    .dataframe tbody tr th:only-of-type {\n",
       "        vertical-align: middle;\n",
       "    }\n",
       "\n",
       "    .dataframe tbody tr th {\n",
       "        vertical-align: top;\n",
       "    }\n",
       "\n",
       "    .dataframe thead th {\n",
       "        text-align: right;\n",
       "    }\n",
       "</style>\n",
       "<table border=\"1\" class=\"dataframe\">\n",
       "  <thead>\n",
       "    <tr style=\"text-align: right;\">\n",
       "      <th></th>\n",
       "      <th>00</th>\n",
       "      <th>01</th>\n",
       "      <th>02</th>\n",
       "      <th>10</th>\n",
       "      <th>11</th>\n",
       "      <th>12</th>\n",
       "      <th>20</th>\n",
       "      <th>21</th>\n",
       "      <th>22</th>\n",
       "    </tr>\n",
       "  </thead>\n",
       "  <tbody>\n",
       "    <tr>\n",
       "      <th>0</th>\n",
       "      <td>0.998976</td>\n",
       "      <td>0.307776</td>\n",
       "      <td>-0.370624</td>\n",
       "      <td>0.366976</td>\n",
       "      <td>0.205376</td>\n",
       "      <td>0.074176</td>\n",
       "      <td>0.430976</td>\n",
       "      <td>-0.033024</td>\n",
       "      <td>-0.383424</td>\n",
       "    </tr>\n",
       "    <tr>\n",
       "      <th>1</th>\n",
       "      <td>0.999744</td>\n",
       "      <td>-0.403456</td>\n",
       "      <td>0.266944</td>\n",
       "      <td>-0.022656</td>\n",
       "      <td>-0.094656</td>\n",
       "      <td>-0.440256</td>\n",
       "      <td>0.258944</td>\n",
       "      <td>-0.720256</td>\n",
       "      <td>0.486144</td>\n",
       "    </tr>\n",
       "    <tr>\n",
       "      <th>2</th>\n",
       "      <td>0.999997</td>\n",
       "      <td>0.001597</td>\n",
       "      <td>0.323197</td>\n",
       "      <td>0.417597</td>\n",
       "      <td>-0.009603</td>\n",
       "      <td>-0.110403</td>\n",
       "      <td>-0.164803</td>\n",
       "      <td>-0.337603</td>\n",
       "      <td>-0.184003</td>\n",
       "    </tr>\n",
       "    <tr>\n",
       "      <th>3</th>\n",
       "      <td>0.997379</td>\n",
       "      <td>-0.244221</td>\n",
       "      <td>-0.426621</td>\n",
       "      <td>-0.103421</td>\n",
       "      <td>-0.493821</td>\n",
       "      <td>0.571779</td>\n",
       "      <td>0.106179</td>\n",
       "      <td>-0.183421</td>\n",
       "      <td>0.213379</td>\n",
       "    </tr>\n",
       "    <tr>\n",
       "      <th>4</th>\n",
       "      <td>0.999994</td>\n",
       "      <td>0.105594</td>\n",
       "      <td>-0.182406</td>\n",
       "      <td>0.212794</td>\n",
       "      <td>-0.366406</td>\n",
       "      <td>-0.036806</td>\n",
       "      <td>-0.459206</td>\n",
       "      <td>-0.152006</td>\n",
       "      <td>-0.251206</td>\n",
       "    </tr>\n",
       "  </tbody>\n",
       "</table>\n",
       "</div>"
      ],
      "text/plain": [
       "         00        01        02        10        11        12        20  \\\n",
       "0  0.998976  0.307776 -0.370624  0.366976  0.205376  0.074176  0.430976   \n",
       "1  0.999744 -0.403456  0.266944 -0.022656 -0.094656 -0.440256  0.258944   \n",
       "2  0.999997  0.001597  0.323197  0.417597 -0.009603 -0.110403 -0.164803   \n",
       "3  0.997379 -0.244221 -0.426621 -0.103421 -0.493821  0.571779  0.106179   \n",
       "4  0.999994  0.105594 -0.182406  0.212794 -0.366406 -0.036806 -0.459206   \n",
       "\n",
       "         21        22  \n",
       "0 -0.033024 -0.383424  \n",
       "1 -0.720256  0.486144  \n",
       "2 -0.337603 -0.184003  \n",
       "3 -0.183421  0.213379  \n",
       "4 -0.152006 -0.251206  "
      ]
     },
     "execution_count": 41,
     "metadata": {},
     "output_type": "execute_result"
    }
   ],
   "source": [
    "df=pd.DataFrame(corrfuncs)\n",
    "df.columns=['00','01','02','10','11','12','20','21','22']\n",
    "df.to_csv('output_correlations_cfs3_5000.csv')\n",
    "df.head()"
   ]
  },
  {
   "cell_type": "code",
   "execution_count": 6,
   "id": "7c27167e-d1b3-4c8e-916d-e56d6e4eb4d9",
   "metadata": {
    "tags": []
   },
   "outputs": [
    {
     "data": {
      "image/png": "[encoded data removed]",
      "text/plain": [
       "<Figure size 1000x1000 with 9 Axes>"
      ]
     },
     "metadata": {},
     "output_type": "display_data"
    }
   ],
   "source": [
    "rows,cols =3,3 \n",
    "fig, axes = plt.subplots(rows, cols, figsize=(10,10))\n",
    "Nstart=0 # start labels here\n",
    "k=0\n",
    "for i in range(rows): \n",
    "    for j in range(cols):\n",
    "        # occ3D=get_occ_map('./image_inputs_occ/ising2D_occ_%d.txt'%(k))\n",
    "        # axes[i,j].imshow(np.transpose(occ3D[:,:,0]),interpolation='nearest',cmap=my_cmap) \n",
    "        occ2D=get_2D_occ_map_from_seq('./cfs3_image_inputs_seq/ising2D_seq_%s.dat'%str(k+Nstart).zfill(6))\n",
    "        axes[i,j].imshow(np.transpose(occ2D),interpolation='nearest',cmap='gray') \n",
    "        axes[i,j].axis('off')\n",
    "        # axes[i,j].set_xlabel('a-axis')\n",
    "       # axes[i,j].set_ylabel('b-axis')\n",
    "\n",
    "        k+=1\n",
    "\n",
    "plt.subplots_adjust(left=0.1,\n",
    "                    bottom=0.1,\n",
    "                    right=0.9,\n",
    "                    top=0.9,\n",
    "                    wspace=0.1,\n",
    "                    hspace=0.1)\n"
   ]
  },
  {
   "cell_type": "code",
   "execution_count": null,
   "id": "7865fb4b-6874-4bca-9fbf-69b2363f9803",
   "metadata": {
    "tags": []
   },
   "outputs": [],
   "source": [
    "rows,cols =3,3 \n",
    "fig, axes = plt.subplots(rows, cols, figsize=(10,10))\n",
    "Nstart=0 # start labels here\n",
    "k=0\n",
    "for i in range(rows): \n",
    "    for j in range(cols):\n",
    "        imdat = read_bin('./cfs3_image_inputs_bin/hk0_%s.bin'%str(k+Nstart).zfill(6), npixels=64, offset=1280)\n",
    "        axes[i,j].imshow(np.flip(imdat,0),cmap='gray')\n",
    "        axes[i,j].set_xlabel(None)\n",
    "        axes[i,j].axis('off')\n",
    "        k+=1\n",
    "\n",
    "plt.subplots_adjust(left=0.1,\n",
    "                    bottom=0.1,\n",
    "                    right=0.9,\n",
    "                    top=0.9,\n",
    "                    wspace=0.1,\n",
    "                    hspace=0.1)"
   ]
  },
  {
   "cell_type": "markdown",
   "id": "c2955cdb-6fb1-4356-b248-cc1b2262b493",
   "metadata": {
    "tags": []
   },
   "source": [
    "## below is test code "
   ]
  },
  {
   "cell_type": "code",
   "execution_count": 180,
   "id": "61f70235-fe9f-483a-985b-bc2c6f603890",
   "metadata": {
    "tags": []
   },
   "outputs": [],
   "source": [
    "# this stores the output simualtion as a string of ones and zeros\n",
    "x=np.loadtxt('./expfiles_0/ising2D_occ.txt',usecols=[4])\n",
    "fhout=open('ising2D_seq.dat','w')\n",
    "fhout.write(''.join(list((x-1).astype(int).astype(str))))\n",
    "fhout.close()"
   ]
  },
  {
   "cell_type": "code",
   "execution_count": 175,
   "id": "1ff30a85-c921-4a36-bfa5-2681b53307c4",
   "metadata": {
    "tags": []
   },
   "outputs": [
    {
     "data": {
      "text/plain": [
       "<matplotlib.image.AxesImage at 0x13e206590>"
      ]
     },
     "execution_count": 175,
     "metadata": {},
     "output_type": "execute_result"
    },
    {
     "data": {
      "image/png": "[encoded data removed]",
      "text/plain": [
       "<Figure size 640x480 with 1 Axes>"
      ]
     },
     "metadata": {},
     "output_type": "display_data"
    }
   ],
   "source": [
    "#. in order to plot we can read this back into a diffrent routine \n",
    "with open('ising2D_seq.dat','r') as f:\n",
    "    myseq=f.read()\n",
    "myocc=np.array(list(myseq)).astype(int).reshape((50,50))\n",
    "plt.imshow(np.transpose(myocc),interpolation='nearest',cmap=my_cmap) "
   ]
  },
  {
   "cell_type": "code",
   "execution_count": 176,
   "id": "c2df62ca-6bfa-4f84-94cc-a218126f4244",
   "metadata": {
    "tags": []
   },
   "outputs": [
    {
     "data": {
      "text/plain": [
       "<matplotlib.image.AxesImage at 0x13dc8ffd0>"
      ]
     },
     "execution_count": 176,
     "metadata": {},
     "output_type": "execute_result"
    },
    {
     "data": {
      "image/png": "[encoded data removed]",
      "text/plain": [
       "<Figure size 640x480 with 1 Axes>"
      ]
     },
     "metadata": {},
     "output_type": "display_data"
    }
   ],
   "source": [
    "occ3D=get_occ_map('./expfiles_0/ising2D_occ.txt')\n",
    "plt.imshow(np.transpose(occ3D[:,:,0]),interpolation='nearest',cmap=my_cmap) "
   ]
  },
  {
   "cell_type": "code",
   "execution_count": 177,
   "id": "9e171518-f9fe-4d9a-8b48-b08fca934b72",
   "metadata": {
    "tags": []
   },
   "outputs": [
    {
     "data": {
      "text/html": [
       "<div>\n",
       "<style scoped>\n",
       "    .dataframe tbody tr th:only-of-type {\n",
       "        vertical-align: middle;\n",
       "    }\n",
       "\n",
       "    .dataframe tbody tr th {\n",
       "        vertical-align: top;\n",
       "    }\n",
       "\n",
       "    .dataframe thead th {\n",
       "        text-align: right;\n",
       "    }\n",
       "</style>\n",
       "<table border=\"1\" class=\"dataframe\">\n",
       "  <thead>\n",
       "    <tr style=\"text-align: right;\">\n",
       "      <th></th>\n",
       "      <th>00</th>\n",
       "      <th>01</th>\n",
       "      <th>10</th>\n",
       "      <th>11</th>\n",
       "    </tr>\n",
       "  </thead>\n",
       "  <tbody>\n",
       "    <tr>\n",
       "      <th>10</th>\n",
       "      <td>0.999969</td>\n",
       "      <td>0.012769</td>\n",
       "      <td>-0.331231</td>\n",
       "      <td>0.643169</td>\n",
       "    </tr>\n",
       "    <tr>\n",
       "      <th>11</th>\n",
       "      <td>0.997921</td>\n",
       "      <td>0.804321</td>\n",
       "      <td>0.674721</td>\n",
       "      <td>0.501921</td>\n",
       "    </tr>\n",
       "    <tr>\n",
       "      <th>12</th>\n",
       "      <td>0.999892</td>\n",
       "      <td>-0.003308</td>\n",
       "      <td>0.719892</td>\n",
       "      <td>-0.179308</td>\n",
       "    </tr>\n",
       "    <tr>\n",
       "      <th>13</th>\n",
       "      <td>0.999936</td>\n",
       "      <td>-0.656064</td>\n",
       "      <td>-0.726464</td>\n",
       "      <td>0.551936</td>\n",
       "    </tr>\n",
       "    <tr>\n",
       "      <th>14</th>\n",
       "      <td>0.999999</td>\n",
       "      <td>-0.672001</td>\n",
       "      <td>0.804799</td>\n",
       "      <td>-0.507201</td>\n",
       "    </tr>\n",
       "  </tbody>\n",
       "</table>\n",
       "</div>"
      ],
      "text/plain": [
       "          00        01        10        11\n",
       "10  0.999969  0.012769 -0.331231  0.643169\n",
       "11  0.997921  0.804321  0.674721  0.501921\n",
       "12  0.999892 -0.003308  0.719892 -0.179308\n",
       "13  0.999936 -0.656064 -0.726464  0.551936\n",
       "14  0.999999 -0.672001  0.804799 -0.507201"
      ]
     },
     "execution_count": 177,
     "metadata": {},
     "output_type": "execute_result"
    }
   ],
   "source": [
    "df.tail()"
   ]
  },
  {
   "cell_type": "code",
   "execution_count": 182,
   "id": "4706f7b5-9a4b-4dee-8620-6b3e33825279",
   "metadata": {
    "tags": []
   },
   "outputs": [],
   "source": [
    "store_occ_map_as_seq('./expfiles_0/ising2D_occ.txt', 'ising2D_seq.dat')"
   ]
  },
  {
   "cell_type": "code",
   "execution_count": 183,
   "id": "823040a1-be29-4630-8c53-87fb5da74034",
   "metadata": {
    "tags": []
   },
   "outputs": [],
   "source": [
    "occ2d=get_2D_occ_map_from_seq('ising2D_seq.dat')"
   ]
  },
  {
   "cell_type": "code",
   "execution_count": 185,
   "id": "156fc423-9c83-4eb2-8ba6-6fb2a54591f2",
   "metadata": {
    "tags": []
   },
   "outputs": [
    {
     "data": {
      "text/plain": [
       "<matplotlib.image.AxesImage at 0x13c3dd710>"
      ]
     },
     "execution_count": 185,
     "metadata": {},
     "output_type": "execute_result"
    },
    {
     "data": {
      "image/png": "[encoded data removed]",
      "text/plain": [
       "<Figure size 640x480 with 1 Axes>"
      ]
     },
     "metadata": {},
     "output_type": "display_data"
    }
   ],
   "source": [
    "plt.imshow(np.transpose(occ2d),interpolation='nearest',cmap=my_cmap) "
   ]
  },
  {
   "cell_type": "code",
   "execution_count": 19,
   "id": "85901154-1b65-4069-a9b4-15bbc4e6b4b7",
   "metadata": {},
   "outputs": [
    {
     "name": "stdout",
     "output_type": "stream",
     "text": [
      "Dataset created in ./image_dataset_1000.h5\n"
     ]
    }
   ],
   "source": [
    "# save the data as .h5\n",
    "\n",
    "import h5py\n",
    "\n",
    "# Set the path to your images directory\n",
    "img_dir = \"./cfs3_image_inputs_bin/\"\n",
    "\n",
    "# Set the size of your images\n",
    "img_size = (64, 64)\n",
    "\n",
    "# Set the path to where you want to save the HDF5 file\n",
    "h5_file = \"./cfs3_image_dataset_5000.h5\"\n",
    "\n",
    "nfiles=5000\n",
    "Nstart=0 \n",
    "# Create a new HDF5 file\n",
    "with h5py.File(h5_file, 'w') as hf:\n",
    "\n",
    "    # Create a dataset to store your image data\n",
    "    img_data = hf.create_dataset('cfs3_img_data', shape=(nfiles, *img_size), dtype=np.float64)\n",
    "\n",
    "    # Loop through each image file\n",
    "    for i in range(nfiles):    \n",
    "        \n",
    "        # Convert the image to a numpy array\n",
    "        img_arr =read_bin(img_dir+'hk0_%s.bin'%str(i+Nstart).zfill(6), npixels=64, offset=1280)\n",
    "        \n",
    "        # Store the image data in the dataset\n",
    "        img_data[i] = img_arr\n",
    "\n",
    "# Print a message indicating the dataset has been created\n",
    "print(\"Dataset created in {}\".format(h5_file))\n"
   ]
  },
  {
   "cell_type": "code",
   "execution_count": 24,
   "id": "e9ad7bbd-8222-4503-b22d-63a0987f0fbb",
   "metadata": {},
   "outputs": [
    {
     "name": "stdout",
     "output_type": "stream",
     "text": [
      "Dataset created in ./image_dataset_5000.h5\n"
     ]
    }
   ],
   "source": [
    "# save the 5000 data images as .h5\n",
    "\n",
    "import h5py\n",
    "\n",
    "# Set the path to your images directory\n",
    "img_dir = \"./image_inputs_bin/\"\n",
    "\n",
    "# Set the size of your images\n",
    "img_size = (64, 64)\n",
    "\n",
    "# Set the path to where you want to save the HDF5 file\n",
    "h5_file = \"./image_dataset_5000.h5\"\n",
    "\n",
    "nfiles=5000\n",
    "Nstart=0 \n",
    "# Create a new HDF5 file\n",
    "with h5py.File(h5_file, 'w') as hf:\n",
    "\n",
    "    # Create a dataset to store your image data\n",
    "    img_data = hf.create_dataset('img_data', shape=(nfiles, *img_size), dtype=np.float64)\n",
    "\n",
    "   \n",
    "    # Loop through each image file\n",
    "    for i in range(nfiles):    \n",
    "        \n",
    "        # Convert the image to a numpy array\n",
    "        img_arr =read_bin(img_dir+'hk0_%s.bin'%str(i+Nstart).zfill(6), npixels=64, offset=1280)\n",
    "        \n",
    "        # Store the image data in the dataset\n",
    "        img_data[i] = img_arr\n",
    "\n",
    "        \n",
    "        \n",
    "# Print a message indicating the dataset has been created\n",
    "print(\"Dataset created in {}\".format(h5_file))\n"
   ]
  },
  {
   "cell_type": "code",
   "execution_count": 20,
   "id": "3f80450b-0f04-48a7-a030-603c1e7dfbb2",
   "metadata": {},
   "outputs": [
    {
     "name": "stdout",
     "output_type": "stream",
     "text": [
      "img_data\n"
     ]
    }
   ],
   "source": [
    "# Open the HDF5 file in read-only mode\n",
    "with h5py.File('image_dataset_1000.h5', 'r') as f:\n",
    "    # Get a list of dataset names in the HDF5 file\n",
    "    dataset_names = list(f.keys())\n",
    "    \n",
    "    # Print the names of all datasets\n",
    "    for name in dataset_names:\n",
    "        print(name)\n",
    "    dset=f['img_data']\n",
    "    X=dset[:]"
   ]
  },
  {
   "cell_type": "code",
   "execution_count": 21,
   "id": "68faec22-ef66-4120-8349-bc1fde93d04d",
   "metadata": {},
   "outputs": [
    {
     "data": {
      "text/plain": [
       "(1000, 64, 64)"
      ]
     },
     "execution_count": 21,
     "metadata": {},
     "output_type": "execute_result"
    }
   ],
   "source": [
    "np.shape(X)"
   ]
  },
  {
   "cell_type": "code",
   "execution_count": 22,
   "id": "4906a2a5-9fea-4060-884a-60864caa714c",
   "metadata": {},
   "outputs": [
    {
     "data": {
      "text/plain": [
       "<matplotlib.image.AxesImage at 0x7fc289804490>"
      ]
     },
     "execution_count": 22,
     "metadata": {},
     "output_type": "execute_result"
    },
    {
     "data": {
      "image/png": "[encoded data removed]",
      "text/plain": [
       "<Figure size 640x480 with 1 Axes>"
      ]
     },
     "metadata": {},
     "output_type": "display_data"
    }
   ],
   "source": [
    "imshow(np.flip(X[0],0),cmap='gray')"
   ]
  },
  {
   "cell_type": "code",
   "execution_count": 23,
   "id": "3a978071-486f-44ac-95a7-43987937664c",
   "metadata": {},
   "outputs": [
    {
     "data": {
      "text/plain": [
       "<matplotlib.image.AxesImage at 0x7fc28985ee30>"
      ]
     },
     "execution_count": 23,
     "metadata": {},
     "output_type": "execute_result"
    },
    {
     "data": {
      "image/png": "[encoded data removed]",
      "text/plain": [
       "<Figure size 640x480 with 1 Axes>"
      ]
     },
     "metadata": {},
     "output_type": "display_data"
    }
   ],
   "source": [
    "k=0\n",
    "imdat = read_bin('./image_inputs_bin/hk0_%s.bin'%str(k).zfill(6), npixels=64, offset=1280)\n",
    "imshow(np.flip(imdat,0),cmap='gray')"
   ]
  },
  {
   "cell_type": "code",
   "execution_count": null,
   "id": "ca60f98e-206f-483d-9168-2ec6bf93e712",
   "metadata": {},
   "outputs": [],
   "source": []
  }
 ],
 "metadata": {
  "kernelspec": {
   "display_name": "Python 3 (ipykernel)",
   "language": "python",
   "name": "python3"
  },
  "language_info": {
   "codemirror_mode": {
    "name": "ipython",
    "version": 3
   },
   "file_extension": ".py",
   "mimetype": "text/x-python",
   "name": "python",
   "nbconvert_exporter": "python",
   "pygments_lexer": "ipython3",
   "version": "3.10.9"
  }
 },
 "nbformat": 4,
 "nbformat_minor": 5
}
